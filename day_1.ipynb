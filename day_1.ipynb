{
 "cells": [
  {
   "cell_type": "markdown",
   "id": "59fe291c",
   "metadata": {},
   "source": [
    "# Protein Bioinformatics - Day 1\n",
    "\n"
   ]
  },
  {
   "cell_type": "code",
   "execution_count": null,
   "id": "76f6d128",
   "metadata": {},
   "outputs": [],
   "source": [
    "import sys\n",
    "import os\n",
    "\n",
    "from Bio import SeqIO\n",
    "from Bio.Seq import Seq\n",
    "from Bio.SeqRecord import SeqRecord\n",
    "from Bio import Entrez\n",
    "from Bio.Align import MultipleSeqAlignment as MSA\n",
    "\n",
    "# To configure\n",
    "Entrez.email = \"giodalton.gaming.off@gmail.com\"\n",
    "\n",
    "# Hidde warnings\n",
    "import warnings\n",
    "warnings.filterwarnings('ignore')"
   ]
  },
  {
   "cell_type": "markdown",
   "id": "8a86aa08",
   "metadata": {},
   "source": [
    "## Exercise 1\n",
    "In a DNA sequence, identify the possile genes and it's transcripted and translated products. Identify at least the most similar protein with a hit in the protein data bank for each translated protein."
   ]
  },
  {
   "cell_type": "markdown",
   "id": "b9dfe5c6",
   "metadata": {},
   "source": [
    "## Exercise 2\n",
    "From a list of genebank identifiers, retreive their corresponding protein sequences in fasta format. After, indicate if the proteins have been experimentally validated and retrieve the related literature."
   ]
  },
  {
   "cell_type": "code",
   "execution_count": null,
   "id": "df3d4c15",
   "metadata": {},
   "outputs": [],
   "source": [
    "# Main function\n",
    "def retrieve_from_genebank(gb_ids, format=None):\n",
    "    if isinstance(gb_ids, str):\n",
    "        return retrieve_from_genebank([gb_ids], format)\n",
    "    elif isinstance(gb_ids, (list, tuple)):\n",
    "        return [_retrieve_from_genebank_(gb_id, format) for gb_id in gb_ids]\n",
    "    else:\n",
    "        raise ValueError()\n",
    "\n",
    "# Function to handle single id\n",
    "def _retrieve_from_genebank_(gb_id, format=None):\n",
    "    # Load data from NCBI & read data as GenBank data\n",
    "    handle = Entrez.efetch(db=\"nucleotide\", id=gb_id, rettype=\"gb\", retmode=\"text\")\n",
    "    gb_data = SeqIO.read(handle, 'genbank')\n",
    "\n",
    "    # Convert DNA Seq to Protein Seq and format as fasta\n",
    "    dna_seq = gb_data.seq\n",
    "    prot_seq = gb_data.seq.translate()\n",
    "    prot_rec = SeqRecord(prot_seq, id=gb_data.id, name=gb_data.name, description=gb_data.description, dbxrefs=gb_data.dbxrefs)\n",
    "    \n",
    "    if format:\n",
    "        prot_rec = prot_rec.format(format)\n",
    "    \n",
    "    # Verifiy if data was validated, if so return the list of references\n",
    "    if gb_data.annotations['references']:\n",
    "        return (prot_rec, True, gb_data.annotations['references'])\n",
    "    return (prot_rec, False, [])"
   ]
  },
  {
   "cell_type": "code",
   "execution_count": null,
   "id": "7505484a",
   "metadata": {},
   "outputs": [],
   "source": [
    "retrieve_from_genebank(('X14061', 'X15062'), format=\"fasta\")"
   ]
  },
  {
   "cell_type": "markdown",
   "id": "379115c0",
   "metadata": {},
   "source": [
    "## Exercise 3\n",
    "Create a theoretical framework for directed mutagenesis of a user specified gene in genbank. The user must be able to decide the mutation position and choose the codon to use. From this codon, create primers with 40% GC content and a minimum of 25bp."
   ]
  },
  {
   "cell_type": "markdown",
   "id": "0ba60d56",
   "metadata": {},
   "source": [
    "## Exercise 4\n",
    "Starting with a list of gene identifiers, saved in a file, perform the MSA of the corresponding proteins. From the MSA, retrieve the zones with higher conservation."
   ]
  },
  {
   "cell_type": "code",
   "execution_count": null,
   "id": "dec2fb56",
   "metadata": {},
   "outputs": [],
   "source": [
    "handle = 'gb_ids.txt' #specify the location of your gene ids file\n",
    "\n",
    "def get_ids(handle):\n",
    "    if not os.path.isfile(handle):\n",
    "        raise ValueError()\n",
    "\n",
    "    with open(handle) as f:\n",
    "        ids = list({line.rstrip() for line in f.readlines()})\n",
    "            \n",
    "    return ids\n",
    "\n",
    "# We use the exercise 2 retrieve_from_genebank function to get the records\n",
    "records = [el[0] for el in retrieve_from_genebank(get_ids(handle))]\n",
    "align = MSA(records)\n",
    "print(align)"
   ]
  },
  {
   "cell_type": "markdown",
   "id": "7c37d013",
   "metadata": {},
   "source": [
    "## Exercise 5\n",
    "Starting with a gene sequence, provide the genetic analysis of the sequence (GC content, length, taxonomy and condon usage). Provide also the protein sequence and the corresponding characteristics according to Prosite, if any."
   ]
  },
  {
   "cell_type": "code",
   "execution_count": 128,
   "id": "eb265501",
   "metadata": {},
   "outputs": [
    {
     "data": {
      "text/plain": [
       "[42.64705882352941, 68, None, None]"
      ]
     },
     "execution_count": 128,
     "metadata": {},
     "output_type": "execute_result"
    }
   ],
   "source": [
    "gc_content = lambda seq: (seq.count(\"G\")+seq.count(\"C\"))/len(seq)*100\n",
    "\n",
    "def seq_stats(seq, source=None, verbose=True):\n",
    "    stats = [None, None, None, None]\n",
    "    if source is None:\n",
    "        stats[0] = gc_content(seq)\n",
    "        stats[1] = len(seq)\n",
    "        stats[2] = None #TODO\n",
    "        stats[3] = None #TODO\n",
    "        \n",
    "    # pretty print\n",
    "    if verbose:\n",
    "        print(f\"> Sequence Stats (Source:{source})\\n\" + \\\n",
    "              f\"\\tGC-content.................{stats[0]:.2f}\\n\" + \\\n",
    "              f\"\\tLength.....................{stats[1]}\\n\" + \\\n",
    "              f\"\\tTaxonomy...................{stats[2]}\\n\" + \\\n",
    "              f\"\\tCodon Usage................{stats[3]}\\n\")\n",
    "\n",
    "    return stats\n",
    "\n",
    "seq_stats(\"ATGCCCGATAGGCTTAAATGAGAGATCGATACAGATAGACCCAATTAAATGAGAGAGATCAGCGCATG\", verbose=False)"
   ]
  },
  {
   "cell_type": "markdown",
   "id": "080cf33e",
   "metadata": {},
   "source": [
    "## Exercise 6\n",
    "Starting from one protein sequence, retrieve the homologous from 5 different species. perform the MSA and retrieve an identity matrix."
   ]
  },
  {
   "cell_type": "markdown",
   "id": "b4d60e01",
   "metadata": {},
   "source": [
    "## Exercise 7\n",
    "From a list of proteins, listed by their uniprot identifiers, retreive their EC number and sequence. If they share common enzymatic class on the higher instance, perform the MSA and identify the two most distant proteins."
   ]
  },
  {
   "cell_type": "markdown",
   "id": "4adfee1c",
   "metadata": {},
   "source": [
    "## Exercise 8\n",
    "From a list of proteins, listed by their uniprot identifiers, retrieve their PDB code and sequence. Only if they belong to different organisms, perform a MSA and print a phylogenetic tree."
   ]
  }
 ],
 "metadata": {
  "kernelspec": {
   "display_name": "Python 3 (ipykernel)",
   "language": "python",
   "name": "python3"
  },
  "language_info": {
   "codemirror_mode": {
    "name": "ipython",
    "version": 3
   },
   "file_extension": ".py",
   "mimetype": "text/x-python",
   "name": "python",
   "nbconvert_exporter": "python",
   "pygments_lexer": "ipython3",
   "version": "3.9.15"
  }
 },
 "nbformat": 4,
 "nbformat_minor": 5
}
